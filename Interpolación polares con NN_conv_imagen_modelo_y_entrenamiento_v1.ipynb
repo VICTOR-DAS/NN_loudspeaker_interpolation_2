{
 "cells": [
  {
   "cell_type": "code",
   "execution_count": 32,
   "metadata": {},
   "outputs": [
    {
     "ename": "ValueError",
     "evalue": "A `Concatenate` layer requires inputs with matching shapes except for the concat axis. Got inputs shapes: [(None, 49, 13, 16), (None, 18, 10, 8)]",
     "output_type": "error",
     "traceback": [
      "\u001b[1;31m---------------------------------------------------------------------------\u001b[0m",
      "\u001b[1;31mValueError\u001b[0m                                Traceback (most recent call last)",
      "\u001b[1;32mc:\\Users\\vcatala\\OneDrive\\PhD UV\\Artículos\\interpolation\\NN\\Interpolación polares con NN_conv_imagen_modelo_y_entrenamiento_v1.ipynb Cell 1\u001b[0m line \u001b[0;36m<cell line: 53>\u001b[1;34m()\u001b[0m\n\u001b[0;32m     <a href='vscode-notebook-cell:/c%3A/Users/vcatala/OneDrive/PhD%20UV/Art%C3%ADculos/interpolation/NN/Interpolaci%C3%B3n%20polares%20con%20NN_conv_imagen_modelo_y_entrenamiento_v1.ipynb#W1sZmlsZQ%3D%3D?line=50'>51</a>\u001b[0m \u001b[39m# Crear el modelo U-net\u001b[39;00m\n\u001b[0;32m     <a href='vscode-notebook-cell:/c%3A/Users/vcatala/OneDrive/PhD%20UV/Art%C3%ADculos/interpolation/NN/Interpolaci%C3%B3n%20polares%20con%20NN_conv_imagen_modelo_y_entrenamiento_v1.ipynb#W1sZmlsZQ%3D%3D?line=51'>52</a>\u001b[0m input_shape \u001b[39m=\u001b[39m (\u001b[39m1250\u001b[39m, \u001b[39m129\u001b[39m, \u001b[39m1\u001b[39m)  \u001b[39m# Ajustar la forma de entrada según tus datos\u001b[39;00m\n\u001b[1;32m---> <a href='vscode-notebook-cell:/c%3A/Users/vcatala/OneDrive/PhD%20UV/Art%C3%ADculos/interpolation/NN/Interpolaci%C3%B3n%20polares%20con%20NN_conv_imagen_modelo_y_entrenamiento_v1.ipynb#W1sZmlsZQ%3D%3D?line=52'>53</a>\u001b[0m model \u001b[39m=\u001b[39m custom_unet(input_shape)\n\u001b[0;32m     <a href='vscode-notebook-cell:/c%3A/Users/vcatala/OneDrive/PhD%20UV/Art%C3%ADculos/interpolation/NN/Interpolaci%C3%B3n%20polares%20con%20NN_conv_imagen_modelo_y_entrenamiento_v1.ipynb#W1sZmlsZQ%3D%3D?line=54'>55</a>\u001b[0m \u001b[39m# Resumen del modelo\u001b[39;00m\n\u001b[0;32m     <a href='vscode-notebook-cell:/c%3A/Users/vcatala/OneDrive/PhD%20UV/Art%C3%ADculos/interpolation/NN/Interpolaci%C3%B3n%20polares%20con%20NN_conv_imagen_modelo_y_entrenamiento_v1.ipynb#W1sZmlsZQ%3D%3D?line=55'>56</a>\u001b[0m model\u001b[39m.\u001b[39msummary()\n",
      "\u001b[1;32mc:\\Users\\vcatala\\OneDrive\\PhD UV\\Artículos\\interpolation\\NN\\Interpolación polares con NN_conv_imagen_modelo_y_entrenamiento_v1.ipynb Cell 1\u001b[0m line \u001b[0;36mcustom_unet\u001b[1;34m(input_shape)\u001b[0m\n\u001b[0;32m     <a href='vscode-notebook-cell:/c%3A/Users/vcatala/OneDrive/PhD%20UV/Art%C3%ADculos/interpolation/NN/Interpolaci%C3%B3n%20polares%20con%20NN_conv_imagen_modelo_y_entrenamiento_v1.ipynb#W1sZmlsZQ%3D%3D?line=28'>29</a>\u001b[0m x \u001b[39m=\u001b[39m keras\u001b[39m.\u001b[39mlayers\u001b[39m.\u001b[39mUpSampling2D(size\u001b[39m=\u001b[39m(\u001b[39m2\u001b[39m, \u001b[39m2\u001b[39m))(x)\n\u001b[0;32m     <a href='vscode-notebook-cell:/c%3A/Users/vcatala/OneDrive/PhD%20UV/Art%C3%ADculos/interpolation/NN/Interpolaci%C3%B3n%20polares%20con%20NN_conv_imagen_modelo_y_entrenamiento_v1.ipynb#W1sZmlsZQ%3D%3D?line=29'>30</a>\u001b[0m x \u001b[39m=\u001b[39m keras\u001b[39m.\u001b[39mlayers\u001b[39m.\u001b[39mConv2D(\u001b[39m8\u001b[39m, (\u001b[39m33\u001b[39m, \u001b[39m5\u001b[39m), padding\u001b[39m=\u001b[39m\u001b[39m\"\u001b[39m\u001b[39msame\u001b[39m\u001b[39m\"\u001b[39m, activation\u001b[39m=\u001b[39m\u001b[39m\"\u001b[39m\u001b[39mrelu\u001b[39m\u001b[39m\"\u001b[39m)(x)\n\u001b[1;32m---> <a href='vscode-notebook-cell:/c%3A/Users/vcatala/OneDrive/PhD%20UV/Art%C3%ADculos/interpolation/NN/Interpolaci%C3%B3n%20polares%20con%20NN_conv_imagen_modelo_y_entrenamiento_v1.ipynb#W1sZmlsZQ%3D%3D?line=30'>31</a>\u001b[0m x \u001b[39m=\u001b[39m keras\u001b[39m.\u001b[39;49mlayers\u001b[39m.\u001b[39;49mconcatenate([conv4, x], axis\u001b[39m=\u001b[39;49m\u001b[39m-\u001b[39;49m\u001b[39m1\u001b[39;49m)\n\u001b[0;32m     <a href='vscode-notebook-cell:/c%3A/Users/vcatala/OneDrive/PhD%20UV/Art%C3%ADculos/interpolation/NN/Interpolaci%C3%B3n%20polares%20con%20NN_conv_imagen_modelo_y_entrenamiento_v1.ipynb#W1sZmlsZQ%3D%3D?line=32'>33</a>\u001b[0m x \u001b[39m=\u001b[39m keras\u001b[39m.\u001b[39mlayers\u001b[39m.\u001b[39mUpSampling2D(size\u001b[39m=\u001b[39m(\u001b[39m2\u001b[39m, \u001b[39m2\u001b[39m))(x)\n\u001b[0;32m     <a href='vscode-notebook-cell:/c%3A/Users/vcatala/OneDrive/PhD%20UV/Art%C3%ADculos/interpolation/NN/Interpolaci%C3%B3n%20polares%20con%20NN_conv_imagen_modelo_y_entrenamiento_v1.ipynb#W1sZmlsZQ%3D%3D?line=33'>34</a>\u001b[0m x \u001b[39m=\u001b[39m keras\u001b[39m.\u001b[39mlayers\u001b[39m.\u001b[39mConv2D(\u001b[39m8\u001b[39m, (\u001b[39m33\u001b[39m, \u001b[39m5\u001b[39m), padding\u001b[39m=\u001b[39m\u001b[39m\"\u001b[39m\u001b[39msame\u001b[39m\u001b[39m\"\u001b[39m, activation\u001b[39m=\u001b[39m\u001b[39m\"\u001b[39m\u001b[39mrelu\u001b[39m\u001b[39m\"\u001b[39m)(x)\n",
      "File \u001b[1;32mc:\\Users\\vcatala\\Anaconda3\\envs\\NN\\lib\\site-packages\\tensorflow\\python\\keras\\layers\\merge.py:931\u001b[0m, in \u001b[0;36mconcatenate\u001b[1;34m(inputs, axis, **kwargs)\u001b[0m\n\u001b[0;32m    899\u001b[0m \u001b[39m@keras_export\u001b[39m(\u001b[39m'\u001b[39m\u001b[39mkeras.layers.concatenate\u001b[39m\u001b[39m'\u001b[39m)\n\u001b[0;32m    900\u001b[0m \u001b[39mdef\u001b[39;00m \u001b[39mconcatenate\u001b[39m(inputs, axis\u001b[39m=\u001b[39m\u001b[39m-\u001b[39m\u001b[39m1\u001b[39m, \u001b[39m*\u001b[39m\u001b[39m*\u001b[39mkwargs):\n\u001b[0;32m    901\u001b[0m   \u001b[39m\"\"\"Functional interface to the `Concatenate` layer.\u001b[39;00m\n\u001b[0;32m    902\u001b[0m \n\u001b[0;32m    903\u001b[0m \u001b[39m  >>> x = np.arange(20).reshape(2, 2, 5)\u001b[39;00m\n\u001b[1;32m   (...)\u001b[0m\n\u001b[0;32m    929\u001b[0m \u001b[39m      A tensor, the concatenation of the inputs alongside axis `axis`.\u001b[39;00m\n\u001b[0;32m    930\u001b[0m \u001b[39m  \"\"\"\u001b[39;00m\n\u001b[1;32m--> 931\u001b[0m   \u001b[39mreturn\u001b[39;00m Concatenate(axis\u001b[39m=\u001b[39;49maxis, \u001b[39m*\u001b[39;49m\u001b[39m*\u001b[39;49mkwargs)(inputs)\n",
      "File \u001b[1;32mc:\\Users\\vcatala\\Anaconda3\\envs\\NN\\lib\\site-packages\\tensorflow\\python\\keras\\engine\\base_layer.py:925\u001b[0m, in \u001b[0;36mLayer.__call__\u001b[1;34m(self, *args, **kwargs)\u001b[0m\n\u001b[0;32m    919\u001b[0m \u001b[39m# Functional Model construction mode is invoked when `Layer`s are called on\u001b[39;00m\n\u001b[0;32m    920\u001b[0m \u001b[39m# symbolic `KerasTensor`s, i.e.:\u001b[39;00m\n\u001b[0;32m    921\u001b[0m \u001b[39m# >> inputs = tf.keras.Input(10)\u001b[39;00m\n\u001b[0;32m    922\u001b[0m \u001b[39m# >> outputs = MyLayer()(inputs)  # Functional construction mode.\u001b[39;00m\n\u001b[0;32m    923\u001b[0m \u001b[39m# >> model = tf.keras.Model(inputs, outputs)\u001b[39;00m\n\u001b[0;32m    924\u001b[0m \u001b[39mif\u001b[39;00m _in_functional_construction_mode(\u001b[39mself\u001b[39m, inputs, args, kwargs, input_list):\n\u001b[1;32m--> 925\u001b[0m   \u001b[39mreturn\u001b[39;00m \u001b[39mself\u001b[39;49m\u001b[39m.\u001b[39;49m_functional_construction_call(inputs, args, kwargs,\n\u001b[0;32m    926\u001b[0m                                             input_list)\n\u001b[0;32m    928\u001b[0m \u001b[39m# Maintains info about the `Layer.call` stack.\u001b[39;00m\n\u001b[0;32m    929\u001b[0m call_context \u001b[39m=\u001b[39m base_layer_utils\u001b[39m.\u001b[39mcall_context()\n",
      "File \u001b[1;32mc:\\Users\\vcatala\\Anaconda3\\envs\\NN\\lib\\site-packages\\tensorflow\\python\\keras\\engine\\base_layer.py:1098\u001b[0m, in \u001b[0;36mLayer._functional_construction_call\u001b[1;34m(self, inputs, args, kwargs, input_list)\u001b[0m\n\u001b[0;32m   1094\u001b[0m \u001b[39m# Use `self._name_scope()` to avoid auto-incrementing the name.\u001b[39;00m\n\u001b[0;32m   1095\u001b[0m \u001b[39mwith\u001b[39;00m graph\u001b[39m.\u001b[39mas_default(), backend\u001b[39m.\u001b[39mname_scope(\u001b[39mself\u001b[39m\u001b[39m.\u001b[39m_name_scope()):\n\u001b[0;32m   1096\u001b[0m   \u001b[39m# Build layer if applicable (if the `build` method has been\u001b[39;00m\n\u001b[0;32m   1097\u001b[0m   \u001b[39m# overridden).\u001b[39;00m\n\u001b[1;32m-> 1098\u001b[0m   \u001b[39mself\u001b[39;49m\u001b[39m.\u001b[39;49m_maybe_build(inputs)\n\u001b[0;32m   1099\u001b[0m   cast_inputs \u001b[39m=\u001b[39m \u001b[39mself\u001b[39m\u001b[39m.\u001b[39m_maybe_cast_inputs(inputs, input_list)\n\u001b[0;32m   1101\u001b[0m   \u001b[39mif\u001b[39;00m \u001b[39mnot\u001b[39;00m \u001b[39mself\u001b[39m\u001b[39m.\u001b[39mdynamic:\n\u001b[0;32m   1102\u001b[0m     \u001b[39m# Wrapping `call` function in autograph to allow for dynamic control\u001b[39;00m\n\u001b[0;32m   1103\u001b[0m     \u001b[39m# flow and control dependencies in call. We are limiting this to\u001b[39;00m\n\u001b[1;32m   (...)\u001b[0m\n\u001b[0;32m   1106\u001b[0m     \u001b[39m# tf_convert will respect the value of autograph setting in the\u001b[39;00m\n\u001b[0;32m   1107\u001b[0m     \u001b[39m# enclosing tf.function, if any.\u001b[39;00m\n",
      "File \u001b[1;32mc:\\Users\\vcatala\\Anaconda3\\envs\\NN\\lib\\site-packages\\tensorflow\\python\\keras\\engine\\base_layer.py:2643\u001b[0m, in \u001b[0;36mLayer._maybe_build\u001b[1;34m(self, inputs)\u001b[0m\n\u001b[0;32m   2638\u001b[0m \u001b[39mif\u001b[39;00m \u001b[39mnot\u001b[39;00m \u001b[39mhasattr\u001b[39m(\u001b[39mself\u001b[39m\u001b[39m.\u001b[39mbuild, \u001b[39m'\u001b[39m\u001b[39m_is_default\u001b[39m\u001b[39m'\u001b[39m):\n\u001b[0;32m   2639\u001b[0m   \u001b[39m# Any setup work performed only once should happen in an `init_scope`\u001b[39;00m\n\u001b[0;32m   2640\u001b[0m   \u001b[39m# to avoid creating symbolic Tensors that will later pollute any eager\u001b[39;00m\n\u001b[0;32m   2641\u001b[0m   \u001b[39m# operations.\u001b[39;00m\n\u001b[0;32m   2642\u001b[0m   \u001b[39mwith\u001b[39;00m tf_utils\u001b[39m.\u001b[39mmaybe_init_scope(\u001b[39mself\u001b[39m):\n\u001b[1;32m-> 2643\u001b[0m     \u001b[39mself\u001b[39;49m\u001b[39m.\u001b[39;49mbuild(input_shapes)  \u001b[39m# pylint:disable=not-callable\u001b[39;00m\n\u001b[0;32m   2644\u001b[0m \u001b[39m# We must set also ensure that the layer is marked as built, and the build\u001b[39;00m\n\u001b[0;32m   2645\u001b[0m \u001b[39m# shape is stored since user defined build functions may not be calling\u001b[39;00m\n\u001b[0;32m   2646\u001b[0m \u001b[39m# `super.build()`\u001b[39;00m\n\u001b[0;32m   2647\u001b[0m Layer\u001b[39m.\u001b[39mbuild(\u001b[39mself\u001b[39m, input_shapes)\n",
      "File \u001b[1;32mc:\\Users\\vcatala\\Anaconda3\\envs\\NN\\lib\\site-packages\\tensorflow\\python\\keras\\utils\\tf_utils.py:323\u001b[0m, in \u001b[0;36mshape_type_conversion.<locals>.wrapper\u001b[1;34m(instance, input_shape)\u001b[0m\n\u001b[0;32m    321\u001b[0m \u001b[39mif\u001b[39;00m input_shape \u001b[39mis\u001b[39;00m \u001b[39mnot\u001b[39;00m \u001b[39mNone\u001b[39;00m:\n\u001b[0;32m    322\u001b[0m   input_shape \u001b[39m=\u001b[39m convert_shapes(input_shape, to_tuples\u001b[39m=\u001b[39m\u001b[39mTrue\u001b[39;00m)\n\u001b[1;32m--> 323\u001b[0m output_shape \u001b[39m=\u001b[39m fn(instance, input_shape)\n\u001b[0;32m    324\u001b[0m \u001b[39m# Return shapes from `fn` as TensorShapes.\u001b[39;00m\n\u001b[0;32m    325\u001b[0m \u001b[39mif\u001b[39;00m output_shape \u001b[39mis\u001b[39;00m \u001b[39mnot\u001b[39;00m \u001b[39mNone\u001b[39;00m:\n",
      "File \u001b[1;32mc:\\Users\\vcatala\\Anaconda3\\envs\\NN\\lib\\site-packages\\tensorflow\\python\\keras\\layers\\merge.py:519\u001b[0m, in \u001b[0;36mConcatenate.build\u001b[1;34m(self, input_shape)\u001b[0m\n\u001b[0;32m    516\u001b[0m unique_dims \u001b[39m=\u001b[39m \u001b[39mset\u001b[39m(\n\u001b[0;32m    517\u001b[0m     shape[axis] \u001b[39mfor\u001b[39;00m shape \u001b[39min\u001b[39;00m shape_set \u001b[39mif\u001b[39;00m shape[axis] \u001b[39mis\u001b[39;00m \u001b[39mnot\u001b[39;00m \u001b[39mNone\u001b[39;00m)\n\u001b[0;32m    518\u001b[0m \u001b[39mif\u001b[39;00m \u001b[39mlen\u001b[39m(unique_dims) \u001b[39m>\u001b[39m \u001b[39m1\u001b[39m:\n\u001b[1;32m--> 519\u001b[0m   \u001b[39mraise\u001b[39;00m \u001b[39mValueError\u001b[39;00m(err_msg)\n",
      "\u001b[1;31mValueError\u001b[0m: A `Concatenate` layer requires inputs with matching shapes except for the concat axis. Got inputs shapes: [(None, 49, 13, 16), (None, 18, 10, 8)]"
     ]
    }
   ],
   "source": [
    "from tensorflow import keras\n",
    "from tensorflow.keras import layers\n",
    "\n",
    "def custom_unet(input_shape):\n",
    "    inputs = keras.Input(shape=input_shape)\n",
    "\n",
    "    # Codificador\n",
    "    x = keras.layers.Conv2D(4, (33, 5), strides=(2, 1), padding=\"valid\", activation=\"relu\")(inputs)\n",
    "    conv1 = keras.layers.BatchNormalization()(x)\n",
    "    x = keras.layers.Activation(\"relu\")(conv1)\n",
    "\n",
    "    x = keras.layers.Conv2D(8, (33, 5), strides=(2, 2), padding=\"valid\", activation=\"relu\")(x)\n",
    "    conv2 = keras.layers.BatchNormalization()(x)\n",
    "    x = keras.layers.Activation(\"relu\")(conv2)\n",
    "\n",
    "    x = keras.layers.Conv2D(8, (33, 5), strides=(2, 2), padding=\"valid\", activation=\"relu\")(x)\n",
    "    conv3 = keras.layers.BatchNormalization()(x)\n",
    "    x = keras.layers.Activation(\"relu\")(conv3)\n",
    "\n",
    "    x = keras.layers.Conv2D(16, (33, 5), strides=(2, 2), padding=\"valid\", activation=\"relu\")(x)\n",
    "    conv4 = keras.layers.BatchNormalization()(x)\n",
    "    x = keras.layers.Activation(\"relu\")(conv4)\n",
    "\n",
    "    x = keras.layers.Conv2D(16, (33, 5), strides=(2, 2), padding=\"valid\", activation=\"relu\")(x)\n",
    "    conv5 = keras.layers.BatchNormalization()(x)\n",
    "    x = keras.layers.Activation(\"relu\")(conv5)\n",
    "\n",
    "    # Decodificador\n",
    "    x = keras.layers.UpSampling2D(size=(2, 2))(x)\n",
    "    x = keras.layers.Conv2D(8, (33, 5), padding=\"same\", activation=\"relu\")(x)\n",
    "    x = keras.layers.concatenate([conv4, x], axis=-1)\n",
    "\n",
    "    x = keras.layers.UpSampling2D(size=(2, 2))(x)\n",
    "    x = keras.layers.Conv2D(8, (33, 5), padding=\"same\", activation=\"relu\")(x)\n",
    "    x = keras.layers.concatenate([conv3, x], axis=-1)\n",
    "\n",
    "    x = keras.layers.UpSampling2D(size=(2, 2))(x)\n",
    "    x = keras.layers.Conv2D(4, (33, 5), padding=\"same\", activation=\"relu\")(x)\n",
    "    x = keras.layers.concatenate([conv2, x], axis=-1)\n",
    "\n",
    "    x = keras.layers.UpSampling2D(size=(2, 2))(x)\n",
    "    x = keras.layers.Conv2D(4, (33, 5), padding=\"same\", activation=\"relu\")(x)\n",
    "    x = keras.layers.concatenate([conv1, x], axis=-1)\n",
    "\n",
    "    # Capa de salida\n",
    "    outputs = keras.layers.Conv2D(1, (33, 5), activation=\"relu\", padding=\"same\")(x)\n",
    "\n",
    "    model = keras.Model(inputs, outputs)\n",
    "    return model\n",
    "\n",
    "# Crear el modelo U-net\n",
    "input_shape = (1250, 129, 1)  # Ajustar la forma de entrada según tus datos\n",
    "model = custom_unet(input_shape)\n",
    "\n",
    "# Resumen del modelo\n",
    "model.summary()\n",
    "\n",
    "\n",
    "\n",
    "\n",
    "\n",
    "\n",
    "\n",
    "\n",
    "\n"
   ]
  },
  {
   "cell_type": "code",
   "execution_count": 31,
   "metadata": {},
   "outputs": [
    {
     "ename": "ValueError",
     "evalue": "A `Concatenate` layer requires inputs with matching shapes except for the concat axis. Got inputs shapes: [(None, 49, 13, 16), (None, 18, 10, 16)]",
     "output_type": "error",
     "traceback": [
      "\u001b[1;31m---------------------------------------------------------------------------\u001b[0m",
      "\u001b[1;31mValueError\u001b[0m                                Traceback (most recent call last)",
      "\u001b[1;32mc:\\Users\\vcatala\\OneDrive\\PhD UV\\Artículos\\interpolation\\NN\\Interpolación polares con NN_conv_imagen_modelo_y_entrenamiento_v1.ipynb Cell 2\u001b[0m line \u001b[0;36m<cell line: 3>\u001b[1;34m()\u001b[0m\n\u001b[0;32m      <a href='vscode-notebook-cell:/c%3A/Users/vcatala/OneDrive/PhD%20UV/Art%C3%ADculos/interpolation/NN/Interpolaci%C3%B3n%20polares%20con%20NN_conv_imagen_modelo_y_entrenamiento_v1.ipynb#W4sZmlsZQ%3D%3D?line=0'>1</a>\u001b[0m \u001b[39m# Crear el modelo U-net\u001b[39;00m\n\u001b[0;32m      <a href='vscode-notebook-cell:/c%3A/Users/vcatala/OneDrive/PhD%20UV/Art%C3%ADculos/interpolation/NN/Interpolaci%C3%B3n%20polares%20con%20NN_conv_imagen_modelo_y_entrenamiento_v1.ipynb#W4sZmlsZQ%3D%3D?line=1'>2</a>\u001b[0m input_shape \u001b[39m=\u001b[39m (\u001b[39m1250\u001b[39m, \u001b[39m129\u001b[39m, \u001b[39m1\u001b[39m)  \u001b[39m# Ajustar la forma de entrada según tus datos\u001b[39;00m\n\u001b[1;32m----> <a href='vscode-notebook-cell:/c%3A/Users/vcatala/OneDrive/PhD%20UV/Art%C3%ADculos/interpolation/NN/Interpolaci%C3%B3n%20polares%20con%20NN_conv_imagen_modelo_y_entrenamiento_v1.ipynb#W4sZmlsZQ%3D%3D?line=2'>3</a>\u001b[0m model \u001b[39m=\u001b[39m custom_unet(input_shape)\n\u001b[0;32m      <a href='vscode-notebook-cell:/c%3A/Users/vcatala/OneDrive/PhD%20UV/Art%C3%ADculos/interpolation/NN/Interpolaci%C3%B3n%20polares%20con%20NN_conv_imagen_modelo_y_entrenamiento_v1.ipynb#W4sZmlsZQ%3D%3D?line=4'>5</a>\u001b[0m \u001b[39m# Resumen del modelo\u001b[39;00m\n\u001b[0;32m      <a href='vscode-notebook-cell:/c%3A/Users/vcatala/OneDrive/PhD%20UV/Art%C3%ADculos/interpolation/NN/Interpolaci%C3%B3n%20polares%20con%20NN_conv_imagen_modelo_y_entrenamiento_v1.ipynb#W4sZmlsZQ%3D%3D?line=5'>6</a>\u001b[0m model\u001b[39m.\u001b[39msummary()\n",
      "\u001b[1;32mc:\\Users\\vcatala\\OneDrive\\PhD UV\\Artículos\\interpolation\\NN\\Interpolación polares con NN_conv_imagen_modelo_y_entrenamiento_v1.ipynb Cell 2\u001b[0m line \u001b[0;36mcustom_unet\u001b[1;34m(input_shape)\u001b[0m\n\u001b[0;32m     <a href='vscode-notebook-cell:/c%3A/Users/vcatala/OneDrive/PhD%20UV/Art%C3%ADculos/interpolation/NN/Interpolaci%C3%B3n%20polares%20con%20NN_conv_imagen_modelo_y_entrenamiento_v1.ipynb#W4sZmlsZQ%3D%3D?line=27'>28</a>\u001b[0m \u001b[39m# Decodificador\u001b[39;00m\n\u001b[0;32m     <a href='vscode-notebook-cell:/c%3A/Users/vcatala/OneDrive/PhD%20UV/Art%C3%ADculos/interpolation/NN/Interpolaci%C3%B3n%20polares%20con%20NN_conv_imagen_modelo_y_entrenamiento_v1.ipynb#W4sZmlsZQ%3D%3D?line=28'>29</a>\u001b[0m x \u001b[39m=\u001b[39m keras\u001b[39m.\u001b[39mlayers\u001b[39m.\u001b[39mUpSampling2D(size\u001b[39m=\u001b[39m(\u001b[39m2\u001b[39m, \u001b[39m2\u001b[39m))(x)\n\u001b[1;32m---> <a href='vscode-notebook-cell:/c%3A/Users/vcatala/OneDrive/PhD%20UV/Art%C3%ADculos/interpolation/NN/Interpolaci%C3%B3n%20polares%20con%20NN_conv_imagen_modelo_y_entrenamiento_v1.ipynb#W4sZmlsZQ%3D%3D?line=29'>30</a>\u001b[0m x \u001b[39m=\u001b[39m keras\u001b[39m.\u001b[39;49mlayers\u001b[39m.\u001b[39;49mconcatenate([conv4, x], axis\u001b[39m=\u001b[39;49m\u001b[39m-\u001b[39;49m\u001b[39m1\u001b[39;49m)\n\u001b[0;32m     <a href='vscode-notebook-cell:/c%3A/Users/vcatala/OneDrive/PhD%20UV/Art%C3%ADculos/interpolation/NN/Interpolaci%C3%B3n%20polares%20con%20NN_conv_imagen_modelo_y_entrenamiento_v1.ipynb#W4sZmlsZQ%3D%3D?line=31'>32</a>\u001b[0m x \u001b[39m=\u001b[39m keras\u001b[39m.\u001b[39mlayers\u001b[39m.\u001b[39mConv2D(\u001b[39m8\u001b[39m, (\u001b[39m33\u001b[39m, \u001b[39m5\u001b[39m), strides\u001b[39m=\u001b[39m(\u001b[39m2\u001b[39m, \u001b[39m2\u001b[39m), padding\u001b[39m=\u001b[39m\u001b[39m\"\u001b[39m\u001b[39mvalid\u001b[39m\u001b[39m\"\u001b[39m, activation\u001b[39m=\u001b[39m\u001b[39m\"\u001b[39m\u001b[39mrelu\u001b[39m\u001b[39m\"\u001b[39m)(x)\n\u001b[0;32m     <a href='vscode-notebook-cell:/c%3A/Users/vcatala/OneDrive/PhD%20UV/Art%C3%ADculos/interpolation/NN/Interpolaci%C3%B3n%20polares%20con%20NN_conv_imagen_modelo_y_entrenamiento_v1.ipynb#W4sZmlsZQ%3D%3D?line=32'>33</a>\u001b[0m x \u001b[39m=\u001b[39m keras\u001b[39m.\u001b[39mlayers\u001b[39m.\u001b[39mUpSampling2D(size\u001b[39m=\u001b[39m(\u001b[39m2\u001b[39m, \u001b[39m2\u001b[39m))(x)\n",
      "File \u001b[1;32mc:\\Users\\vcatala\\Anaconda3\\envs\\NN\\lib\\site-packages\\tensorflow\\python\\keras\\layers\\merge.py:931\u001b[0m, in \u001b[0;36mconcatenate\u001b[1;34m(inputs, axis, **kwargs)\u001b[0m\n\u001b[0;32m    899\u001b[0m \u001b[39m@keras_export\u001b[39m(\u001b[39m'\u001b[39m\u001b[39mkeras.layers.concatenate\u001b[39m\u001b[39m'\u001b[39m)\n\u001b[0;32m    900\u001b[0m \u001b[39mdef\u001b[39;00m \u001b[39mconcatenate\u001b[39m(inputs, axis\u001b[39m=\u001b[39m\u001b[39m-\u001b[39m\u001b[39m1\u001b[39m, \u001b[39m*\u001b[39m\u001b[39m*\u001b[39mkwargs):\n\u001b[0;32m    901\u001b[0m   \u001b[39m\"\"\"Functional interface to the `Concatenate` layer.\u001b[39;00m\n\u001b[0;32m    902\u001b[0m \n\u001b[0;32m    903\u001b[0m \u001b[39m  >>> x = np.arange(20).reshape(2, 2, 5)\u001b[39;00m\n\u001b[1;32m   (...)\u001b[0m\n\u001b[0;32m    929\u001b[0m \u001b[39m      A tensor, the concatenation of the inputs alongside axis `axis`.\u001b[39;00m\n\u001b[0;32m    930\u001b[0m \u001b[39m  \"\"\"\u001b[39;00m\n\u001b[1;32m--> 931\u001b[0m   \u001b[39mreturn\u001b[39;00m Concatenate(axis\u001b[39m=\u001b[39;49maxis, \u001b[39m*\u001b[39;49m\u001b[39m*\u001b[39;49mkwargs)(inputs)\n",
      "File \u001b[1;32mc:\\Users\\vcatala\\Anaconda3\\envs\\NN\\lib\\site-packages\\tensorflow\\python\\keras\\engine\\base_layer.py:925\u001b[0m, in \u001b[0;36mLayer.__call__\u001b[1;34m(self, *args, **kwargs)\u001b[0m\n\u001b[0;32m    919\u001b[0m \u001b[39m# Functional Model construction mode is invoked when `Layer`s are called on\u001b[39;00m\n\u001b[0;32m    920\u001b[0m \u001b[39m# symbolic `KerasTensor`s, i.e.:\u001b[39;00m\n\u001b[0;32m    921\u001b[0m \u001b[39m# >> inputs = tf.keras.Input(10)\u001b[39;00m\n\u001b[0;32m    922\u001b[0m \u001b[39m# >> outputs = MyLayer()(inputs)  # Functional construction mode.\u001b[39;00m\n\u001b[0;32m    923\u001b[0m \u001b[39m# >> model = tf.keras.Model(inputs, outputs)\u001b[39;00m\n\u001b[0;32m    924\u001b[0m \u001b[39mif\u001b[39;00m _in_functional_construction_mode(\u001b[39mself\u001b[39m, inputs, args, kwargs, input_list):\n\u001b[1;32m--> 925\u001b[0m   \u001b[39mreturn\u001b[39;00m \u001b[39mself\u001b[39;49m\u001b[39m.\u001b[39;49m_functional_construction_call(inputs, args, kwargs,\n\u001b[0;32m    926\u001b[0m                                             input_list)\n\u001b[0;32m    928\u001b[0m \u001b[39m# Maintains info about the `Layer.call` stack.\u001b[39;00m\n\u001b[0;32m    929\u001b[0m call_context \u001b[39m=\u001b[39m base_layer_utils\u001b[39m.\u001b[39mcall_context()\n",
      "File \u001b[1;32mc:\\Users\\vcatala\\Anaconda3\\envs\\NN\\lib\\site-packages\\tensorflow\\python\\keras\\engine\\base_layer.py:1098\u001b[0m, in \u001b[0;36mLayer._functional_construction_call\u001b[1;34m(self, inputs, args, kwargs, input_list)\u001b[0m\n\u001b[0;32m   1094\u001b[0m \u001b[39m# Use `self._name_scope()` to avoid auto-incrementing the name.\u001b[39;00m\n\u001b[0;32m   1095\u001b[0m \u001b[39mwith\u001b[39;00m graph\u001b[39m.\u001b[39mas_default(), backend\u001b[39m.\u001b[39mname_scope(\u001b[39mself\u001b[39m\u001b[39m.\u001b[39m_name_scope()):\n\u001b[0;32m   1096\u001b[0m   \u001b[39m# Build layer if applicable (if the `build` method has been\u001b[39;00m\n\u001b[0;32m   1097\u001b[0m   \u001b[39m# overridden).\u001b[39;00m\n\u001b[1;32m-> 1098\u001b[0m   \u001b[39mself\u001b[39;49m\u001b[39m.\u001b[39;49m_maybe_build(inputs)\n\u001b[0;32m   1099\u001b[0m   cast_inputs \u001b[39m=\u001b[39m \u001b[39mself\u001b[39m\u001b[39m.\u001b[39m_maybe_cast_inputs(inputs, input_list)\n\u001b[0;32m   1101\u001b[0m   \u001b[39mif\u001b[39;00m \u001b[39mnot\u001b[39;00m \u001b[39mself\u001b[39m\u001b[39m.\u001b[39mdynamic:\n\u001b[0;32m   1102\u001b[0m     \u001b[39m# Wrapping `call` function in autograph to allow for dynamic control\u001b[39;00m\n\u001b[0;32m   1103\u001b[0m     \u001b[39m# flow and control dependencies in call. We are limiting this to\u001b[39;00m\n\u001b[1;32m   (...)\u001b[0m\n\u001b[0;32m   1106\u001b[0m     \u001b[39m# tf_convert will respect the value of autograph setting in the\u001b[39;00m\n\u001b[0;32m   1107\u001b[0m     \u001b[39m# enclosing tf.function, if any.\u001b[39;00m\n",
      "File \u001b[1;32mc:\\Users\\vcatala\\Anaconda3\\envs\\NN\\lib\\site-packages\\tensorflow\\python\\keras\\engine\\base_layer.py:2643\u001b[0m, in \u001b[0;36mLayer._maybe_build\u001b[1;34m(self, inputs)\u001b[0m\n\u001b[0;32m   2638\u001b[0m \u001b[39mif\u001b[39;00m \u001b[39mnot\u001b[39;00m \u001b[39mhasattr\u001b[39m(\u001b[39mself\u001b[39m\u001b[39m.\u001b[39mbuild, \u001b[39m'\u001b[39m\u001b[39m_is_default\u001b[39m\u001b[39m'\u001b[39m):\n\u001b[0;32m   2639\u001b[0m   \u001b[39m# Any setup work performed only once should happen in an `init_scope`\u001b[39;00m\n\u001b[0;32m   2640\u001b[0m   \u001b[39m# to avoid creating symbolic Tensors that will later pollute any eager\u001b[39;00m\n\u001b[0;32m   2641\u001b[0m   \u001b[39m# operations.\u001b[39;00m\n\u001b[0;32m   2642\u001b[0m   \u001b[39mwith\u001b[39;00m tf_utils\u001b[39m.\u001b[39mmaybe_init_scope(\u001b[39mself\u001b[39m):\n\u001b[1;32m-> 2643\u001b[0m     \u001b[39mself\u001b[39;49m\u001b[39m.\u001b[39;49mbuild(input_shapes)  \u001b[39m# pylint:disable=not-callable\u001b[39;00m\n\u001b[0;32m   2644\u001b[0m \u001b[39m# We must set also ensure that the layer is marked as built, and the build\u001b[39;00m\n\u001b[0;32m   2645\u001b[0m \u001b[39m# shape is stored since user defined build functions may not be calling\u001b[39;00m\n\u001b[0;32m   2646\u001b[0m \u001b[39m# `super.build()`\u001b[39;00m\n\u001b[0;32m   2647\u001b[0m Layer\u001b[39m.\u001b[39mbuild(\u001b[39mself\u001b[39m, input_shapes)\n",
      "File \u001b[1;32mc:\\Users\\vcatala\\Anaconda3\\envs\\NN\\lib\\site-packages\\tensorflow\\python\\keras\\utils\\tf_utils.py:323\u001b[0m, in \u001b[0;36mshape_type_conversion.<locals>.wrapper\u001b[1;34m(instance, input_shape)\u001b[0m\n\u001b[0;32m    321\u001b[0m \u001b[39mif\u001b[39;00m input_shape \u001b[39mis\u001b[39;00m \u001b[39mnot\u001b[39;00m \u001b[39mNone\u001b[39;00m:\n\u001b[0;32m    322\u001b[0m   input_shape \u001b[39m=\u001b[39m convert_shapes(input_shape, to_tuples\u001b[39m=\u001b[39m\u001b[39mTrue\u001b[39;00m)\n\u001b[1;32m--> 323\u001b[0m output_shape \u001b[39m=\u001b[39m fn(instance, input_shape)\n\u001b[0;32m    324\u001b[0m \u001b[39m# Return shapes from `fn` as TensorShapes.\u001b[39;00m\n\u001b[0;32m    325\u001b[0m \u001b[39mif\u001b[39;00m output_shape \u001b[39mis\u001b[39;00m \u001b[39mnot\u001b[39;00m \u001b[39mNone\u001b[39;00m:\n",
      "File \u001b[1;32mc:\\Users\\vcatala\\Anaconda3\\envs\\NN\\lib\\site-packages\\tensorflow\\python\\keras\\layers\\merge.py:519\u001b[0m, in \u001b[0;36mConcatenate.build\u001b[1;34m(self, input_shape)\u001b[0m\n\u001b[0;32m    516\u001b[0m unique_dims \u001b[39m=\u001b[39m \u001b[39mset\u001b[39m(\n\u001b[0;32m    517\u001b[0m     shape[axis] \u001b[39mfor\u001b[39;00m shape \u001b[39min\u001b[39;00m shape_set \u001b[39mif\u001b[39;00m shape[axis] \u001b[39mis\u001b[39;00m \u001b[39mnot\u001b[39;00m \u001b[39mNone\u001b[39;00m)\n\u001b[0;32m    518\u001b[0m \u001b[39mif\u001b[39;00m \u001b[39mlen\u001b[39m(unique_dims) \u001b[39m>\u001b[39m \u001b[39m1\u001b[39m:\n\u001b[1;32m--> 519\u001b[0m   \u001b[39mraise\u001b[39;00m \u001b[39mValueError\u001b[39;00m(err_msg)\n",
      "\u001b[1;31mValueError\u001b[0m: A `Concatenate` layer requires inputs with matching shapes except for the concat axis. Got inputs shapes: [(None, 49, 13, 16), (None, 18, 10, 16)]"
     ]
    }
   ],
   "source": [
    "# Crear el modelo U-net\n",
    "input_shape = (1250, 129, 1)  # Ajustar la forma de entrada según tus datos\n",
    "model = custom_unet(input_shape)\n",
    "\n",
    "# Resumen del modelo\n",
    "model.summary()"
   ]
  }
 ],
 "metadata": {
  "kernelspec": {
   "display_name": "NN",
   "language": "python",
   "name": "python3"
  },
  "language_info": {
   "codemirror_mode": {
    "name": "ipython",
    "version": 3
   },
   "file_extension": ".py",
   "mimetype": "text/x-python",
   "name": "python",
   "nbconvert_exporter": "python",
   "pygments_lexer": "ipython3",
   "version": "3.8.5"
  },
  "orig_nbformat": 4
 },
 "nbformat": 4,
 "nbformat_minor": 2
}
