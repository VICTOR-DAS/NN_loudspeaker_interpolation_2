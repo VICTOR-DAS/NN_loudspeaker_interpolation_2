{
 "cells": [
  {
   "cell_type": "code",
   "execution_count": 27,
   "id": "e7a549cb",
   "metadata": {},
   "outputs": [],
   "source": [
    "# hola holiuwiu\n",
    "\n",
    "cell_index=(get_ipython().execution_count)"
   ]
  }
 ],
 "metadata": {},
 "nbformat": 4,
 "nbformat_minor": 5
}
