{
 "cells": [
  {
   "cell_type": "code",
   "execution_count": 27,
   "id": "8ef4c297",
   "metadata": {},
   "outputs": [],
   "source": [
    "# hola holiuwiu\n",
    "\n",
    "cell_index=(get_ipython().execution_count)"
   ]
  }
 ],
 "metadata": {},
 "nbformat": 4,
 "nbformat_minor": 5
}
